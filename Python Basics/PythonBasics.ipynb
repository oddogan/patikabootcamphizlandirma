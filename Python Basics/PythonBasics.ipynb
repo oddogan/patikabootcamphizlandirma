{
 "cells": [
  {
   "cell_type": "markdown",
   "metadata": {},
   "source": [
    "# Patika.dev Python Basics Course Project\n",
    "This notebook includes the solutions to the problems given in Python Basics course in Bootcamp Acceleration Program for Patika.dev."
   ]
  },
  {
   "cell_type": "markdown",
   "metadata": {},
   "source": [
    "### Question 1\n",
    "Write a flatten() function which flattens a list, which may include multidimensional list as well as non-scalar data. For example:\n",
    "\n",
    "input: [[1,'a',['cat'],2],[[[3]],'dog'],4,5]\n",
    "\n",
    "output: [1,'a','cat',2,3,'dog',4,5]"
   ]
  },
  {
   "cell_type": "code",
   "execution_count": 10,
   "metadata": {},
   "outputs": [],
   "source": [
    "def flatten(lst):\n",
    "    flatlst = list()\n",
    "    for val in lst:\n",
    "        if isinstance(val, list) or isinstance(val, tuple):\n",
    "            flatlst.extend(flatten(val))\n",
    "        else:\n",
    "            flatlst.append(val)\n",
    "    return flatlst"
   ]
  },
  {
   "cell_type": "code",
   "execution_count": 11,
   "metadata": {},
   "outputs": [
    {
     "name": "stdout",
     "output_type": "stream",
     "text": [
      "[1, 'a', 'cat', 2, 3, 'dog', 4, 5]\n"
     ]
    }
   ],
   "source": [
    "ex = flatten([[1,'a',['cat'],2],[[[3]],'dog'],4,5])\n",
    "print(ex)"
   ]
  },
  {
   "cell_type": "markdown",
   "metadata": {},
   "source": [
    "### Question 2\n",
    "Write a function to reverse the elements given in a list. If an element is a list, reverse the contents of that list too."
   ]
  },
  {
   "cell_type": "code",
   "execution_count": 12,
   "metadata": {},
   "outputs": [],
   "source": [
    "def reverse(lst):\n",
    "    lst.reverse()\n",
    "    for val in lst:\n",
    "        if isinstance(val,list):\n",
    "            reverse(val)\n",
    "    return lst"
   ]
  },
  {
   "cell_type": "code",
   "execution_count": 13,
   "metadata": {},
   "outputs": [
    {
     "name": "stdout",
     "output_type": "stream",
     "text": [
      "[[7, 6, 5], [4, 3], [2, 1]]\n"
     ]
    }
   ],
   "source": [
    "ex = reverse([[1, 2], [3, 4], [5, 6, 7]])\n",
    "print(ex)"
   ]
  }
 ],
 "metadata": {
  "interpreter": {
   "hash": "c35108c79405fb20339eccc1834ef9028963a9296ad0c13af7f3b391a976303f"
  },
  "kernelspec": {
   "display_name": "Python 3.9.7 ('base')",
   "language": "python",
   "name": "python3"
  },
  "language_info": {
   "codemirror_mode": {
    "name": "ipython",
    "version": 3
   },
   "file_extension": ".py",
   "mimetype": "text/x-python",
   "name": "python",
   "nbconvert_exporter": "python",
   "pygments_lexer": "ipython3",
   "version": "3.9.7"
  },
  "orig_nbformat": 4
 },
 "nbformat": 4,
 "nbformat_minor": 2
}
